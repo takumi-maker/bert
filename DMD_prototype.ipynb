{
 "cells": [
  {
   "cell_type": "code",
   "execution_count": null,
   "id": "31f1e0cb-67f6-48fc-b0ec-0d9ac69893eb",
   "metadata": {},
   "outputs": [],
   "source": [
    "import numpy as np\n",
    "import matplotlib.pyplot as plt\n",
    "from scipy.linalg import svd\n",
    "import warnings\n",
    "\n",
    "class DynamicModeDecomposition:\n",
    "    def __init__(self, rank=None, svd_rank=None):\n",
    "        \"\"\"\n",
    "        動的モード分解（DMD）クラス\n",
    "        論文 \"Dynamic mode decomposition of numerical and experimental data\" に基づく実装\n",
    "        \n",
    "        Parameters:\n",
    "        rank: DMDで使用するランク（Noneの場合は自動決定）\n",
    "        svd_rank: SVDで使用するランク（Noneの場合は自動決定）\n",
    "        \"\"\"\n",
    "        self.rank = rank\n",
    "        self.svd_rank = svd_rank\n",
    "        self.modes = None\n",
    "        self.eigenvalues = None\n",
    "        self.amplitudes = None\n",
    "        self.Phi = None  # DMDモード\n",
    "        self.omega = None  # 連続時間固有値\n",
    "        self.b = None  # 初期振幅\n",
    "        self.A_tilde = None  # 低次元線形演算子\n",
    "        \n",
    "    def fit(self, X, dt=1.0):\n",
    "        \"\"\"\n",
    "        DMDアルゴリズムを実行\n",
    "        \n",
    "        Parameters:\n",
    "        X: データ行列 (n_features x n_timesteps)\n",
    "        dt: 時間刻み\n",
    "        \"\"\"\n",
    "        # Step 1: データをX1とX2に分割\n",
    "        X1 = X[:, :-1]  # x_1, x_2, ..., x_{m-1}\n",
    "        X2 = X[:, 1:]   # x_2, x_3, ..., x_m\n",
    "        \n",
    "        # Step 2: X1のSVD分解\n",
    "        U, s, Vt = svd(X1, full_matrices=False)\n",
    "        \n",
    "        # Step 3: ランクの決定とtruncation \n",
    "        if self.svd_rank is None:\n",
    "            # 特異値の閾値による自動ランク決定\n",
    "            tolerance = 1e-10\n",
    "            self.svd_rank = np.sum(s > tolerance)\n",
    "        \n",
    "        r = min(self.svd_rank, len(s))\n",
    "        U_r = U[:, :r]\n",
    "        s_r = s[:r]\n",
    "        V_r = Vt[:r, :].T\n",
    "        \n",
    "        # Step 4: 低次元線形演算子A_tildeの計算\n",
    "        #self.A_tilde = U_r.T @ X2 @ V_r @ np.diag(1/s_r)\n",
    "        self.A_tilde = U_r.T @ X2 @ V_r @ np.linalg.pinv(s_r)\n",
    "        \n",
    "        # Step 5: A_tildeの固有値分解\n",
    "        eigenvals, W = np.linalg.eig(self.A_tilde)\n",
    "        \n",
    "        # Step 6: DMDモードの計算\n",
    "        #self.Phi = X2 @ V_r @ np.diag(1/s_r) @ W\n",
    "        self.Phi = X2 @ V_r @ np.linalg.pinv(s_r) @ W\n",
    "        \n",
    "        # 離散時間固有値\n",
    "        self.eigenvalues = eigenvals\n",
    "        \n",
    "        # 連続時間固有値（論文の式に基づく）\n",
    "        #self.omega = np.log(eigenvals) / dt\n",
    "        self.omega = eigenvals #dt=1の場合 expがpredictのところで入れていないためlog入れていない\n",
    "        \n",
    "        # Step 7: 初期振幅の計算\n",
    "        self.b = np.linalg.pinv(self.Phi) @ X[:, 0]\n",
    "        \n",
    "        # 使用するモード数の決定\n",
    "        if self.rank is None:\n",
    "            self.rank = r\n",
    "        else:\n",
    "            self.rank = min(self.rank, r)\n",
    "            \n",
    "        return self\n",
    "    \n",
    "    def predict(self, t_eval, x0=None):\n",
    "        \"\"\"\n",
    "        指定された時刻での状態を予測\n",
    "        \n",
    "        Parameters:\n",
    "        t_eval: 評価時刻\n",
    "        x0: 初期条件（Noneの場合は学習データの初期条件を使用）\n",
    "        \n",
    "        Returns:\n",
    "        X_pred: 予測された状態 (n_features )\n",
    "        \"\"\"\n",
    "        if self.Phi is None:\n",
    "            raise ValueError(\"まずfit()を実行してください\")\n",
    "        \n",
    "        if x0 is not None:\n",
    "            # 新しい初期条件での振幅計算\n",
    "            b = np.linalg.pinv(self.Phi) @ x0\n",
    "        else:\n",
    "            b = self.b\n",
    "        \n",
    "        # 時間発展の計算\n",
    "        # x(t) = Φ * diag(b) * exp(ω*t)\n",
    "        \n",
    "        time_evolution = np.array(self.omega[:self.rank, np.newaxis] **t_eval)\n",
    "        \n",
    "        # 予測\n",
    "        X_pred = self.Phi[:, :self.rank] @ (b[:self.rank, np.newaxis] * time_evolution)#ここ直すべき\n",
    "        \n",
    "        return X_pred\n",
    "    \n",
    "    def compute_dmd_solution(self, t_eval, mode_indices=None):\n",
    "        \"\"\"\n",
    "        特定のモードのみを使用したDMD解を計算\n",
    "        \n",
    "        Parameters:\n",
    "        t_eval: 評価時刻\n",
    "        mode_indices: 使用するモードのインデックス（Noneの場合は全モード）\n",
    "        \"\"\"\n",
    "        if mode_indices is None:\n",
    "            mode_indices = range(self.rank)\n",
    "        \n",
    "        time_evolution = np.exp(np.outer(self.omega[mode_indices], t_eval))\n",
    "        X_dmd = self.Phi[:, mode_indices] @ (self.b[mode_indices, np.newaxis] * time_evolution)\n",
    "        \n",
    "        return X_dmd"
   ]
  },
  {
   "cell_type": "code",
   "execution_count": null,
   "id": "f19f70fe-49a0-4de5-a694-159920c09991",
   "metadata": {},
   "outputs": [],
   "source": [
    "# テストデータの生成\n",
    "X, t, dt = create_test_data()\n",
    "\n",
    "print(\"データ形状:\", X.shape)\n",
    "print(\"時間刻み:\", dt)\n",
    "\n",
    "# DMDの実行\n",
    "dmd = DynamicModeDecomposition(rank=10, svd_rank=15)\n",
    "dmd.fit(X, dt=dt)\n",
    "\n",
    "# 予測\n",
    "X_pred = dmd.predict(t)"
   ]
  },
  {
   "cell_type": "code",
   "execution_count": 1,
   "id": "d2bcb217-ba08-452e-95a1-8c1b2459ed47",
   "metadata": {},
   "outputs": [],
   "source": [
    "import numpy as np\n",
    "import matplotlib.pyplot as plt\n",
    "from scipy.linalg import svd\n",
    "import warnings\n"
   ]
  },
  {
   "cell_type": "code",
   "execution_count": 2,
   "id": "c2818f5e-fd17-49d2-a296-5d017510c0f3",
   "metadata": {},
   "outputs": [],
   "source": [
    "def create_test_data():\n",
    "    \"\"\"テスト用のデータを生成\"\"\"\n",
    "    # 時間軸\n",
    "    t = np.linspace(0, 10, 200)\n",
    "    dt = t[1] - t[0]\n",
    "    \n",
    "    # 複数の動的モードを持つシステム\n",
    "    # モード1: 減衰振動\n",
    "    mode1 = np.exp(-0.1 * t) * np.sin(2 * np.pi * 0.5 * t)\n",
    "    # モード2: 成長振動\n",
    "    mode2 = np.exp(0.05 * t) * np.cos(2 * np.pi * 0.8 * t)\n",
    "    # モード3: 純粋減衰\n",
    "    mode3 = np.exp(-0.2 * t)\n",
    "    \n",
    "    # 空間構造を追加\n",
    "    n_spatial = 50\n",
    "    x_spatial = np.linspace(0, 1, n_spatial)\n",
    "    \n",
    "    # 各モードに異なる空間構造を与える\n",
    "    spatial1 = np.sin(np.pi * x_spatial)\n",
    "    spatial2 = np.sin(2 * np.pi * x_spatial)\n",
    "    spatial3 = np.exp(-((x_spatial - 0.5) / 0.2)**2)  # ガウシアン\n",
    "    \n",
    "    # データ行列の構築\n",
    "    X = (spatial1[:, np.newaxis] @ mode1[np.newaxis, :] + \n",
    "         spatial2[:, np.newaxis] @ mode2[np.newaxis, :] + \n",
    "         spatial3[:, np.newaxis] @ mode3[np.newaxis, :])\n",
    "    \n",
    "    # ノイズを追加\n",
    "    noise_level = 0.05\n",
    "    X += noise_level * np.random.randn(*X.shape)\n",
    "    \n",
    "    return X, t, dt"
   ]
  },
  {
   "cell_type": "code",
   "execution_count": 8,
   "id": "7a8b2660-6792-4cf4-ac42-bae757d113dc",
   "metadata": {
    "scrolled": true
   },
   "outputs": [
    {
     "name": "stdout",
     "output_type": "stream",
     "text": [
      "データ形状: (50, 200)\n",
      "[[-0.0745888   0.05321973  0.01286006 ...  0.0273461   0.02968766\n",
      "   0.0828189 ]\n",
      " [ 0.23515432  0.09822955  0.04070709 ...  0.13957109  0.24122071\n",
      "   0.15837971]\n",
      " [ 0.28280217  0.21683989  0.28078008 ...  0.30791642  0.44357456\n",
      "   0.44619883]\n",
      " ...\n",
      " [-0.30979545 -0.22805543 -0.18186889 ... -0.36120284 -0.48299688\n",
      "  -0.38423087]\n",
      " [-0.193734   -0.13267655 -0.13453994 ... -0.10046946 -0.27859123\n",
      "  -0.23440034]\n",
      " [ 0.00326939  0.10574404  0.02580776 ... -0.09704743 -0.0419091\n",
      "  -0.01568088]]\n"
     ]
    }
   ],
   "source": [
    "X, t, dt = create_test_data()\n",
    "print(\"データ形状:\", X.shape)\n",
    "#print(\"時間刻み:\", dt)\n",
    "print(X)"
   ]
  },
  {
   "cell_type": "code",
   "execution_count": 17,
   "id": "2cb4e0e7-9bf7-4a46-a7ff-33711c4e148a",
   "metadata": {},
   "outputs": [
    {
     "name": "stdout",
     "output_type": "stream",
     "text": [
      "[[ 2]\n",
      " [ 6]\n",
      " [12]]\n"
     ]
    }
   ],
   "source": [
    "a=np.array([[1],[2],[3]])\n",
    "b=np.array([[2],[3],[4]])\n",
    "c =a*b\n",
    "print(c)"
   ]
  },
  {
   "cell_type": "code",
   "execution_count": 15,
   "id": "c84b58e9-d6f1-406f-8209-59c1951ee809",
   "metadata": {},
   "outputs": [
    {
     "data": {
      "text/plain": [
       "array([[1],\n",
       "       [4],\n",
       "       [9]])"
      ]
     },
     "execution_count": 15,
     "metadata": {},
     "output_type": "execute_result"
    }
   ],
   "source": [
    "d = np.array(a**2)\n",
    "d"
   ]
  },
  {
   "cell_type": "code",
   "execution_count": 16,
   "id": "8cc204cc-ea32-454a-9ac6-6fffc90e63df",
   "metadata": {},
   "outputs": [
    {
     "name": "stdout",
     "output_type": "stream",
     "text": [
      "[[ 2.71828183]\n",
      " [ 7.3890561 ]\n",
      " [20.08553692]]\n"
     ]
    }
   ],
   "source": [
    "print(np.exp(a))"
   ]
  },
  {
   "cell_type": "code",
   "execution_count": null,
   "id": "c4e29d1c-e115-480a-8a8b-f6ba999ccc60",
   "metadata": {},
   "outputs": [],
   "source": []
  }
 ],
 "metadata": {
  "kernelspec": {
   "display_name": "Python 3 (ipykernel)",
   "language": "python",
   "name": "python3"
  },
  "language_info": {
   "codemirror_mode": {
    "name": "ipython",
    "version": 3
   },
   "file_extension": ".py",
   "mimetype": "text/x-python",
   "name": "python",
   "nbconvert_exporter": "python",
   "pygments_lexer": "ipython3",
   "version": "3.12.0"
  }
 },
 "nbformat": 4,
 "nbformat_minor": 5
}
