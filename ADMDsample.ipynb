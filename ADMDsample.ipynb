{
 "cells": [
  {
   "cell_type": "code",
   "execution_count": null,
   "id": "d599a9f0-e319-461d-81f5-5ae1eadd0965",
   "metadata": {},
   "outputs": [],
   "source": [
    "import numpy as np\n",
    "from sklearn.linear_model import ElasticNet\n",
    "from scipy.linalg import svd, eig"
   ]
  },
  {
   "cell_type": "code",
   "execution_count": null,
   "id": "9b2f0eab-014b-4d7e-b61b-40e58af0a107",
   "metadata": {},
   "outputs": [],
   "source": [
    "def dmd(X1, X2, r=None):\n",
    "    \"\"\"\n",
    "    X1, X2: 観測行列（X1: t=1~T-1, X2: t=2~T）\n",
    "    r: 特異値分解のランク（省略可）\n",
    "    \"\"\"\n",
    "    U, S, Vh = svd(X1, full_matrices=False)\n",
    "    if r:\n",
    "        U, S, Vh = U[:, :r], S[:r], Vh[:r, :]\n",
    "    A_tilde = U.T @ X2 @ Vh.T @ np.linalg.inv(np.diag(S))\n",
    "    eigvals, W = eig(A_tilde)\n",
    "    Phi = X2 @ Vh.T @ np.linalg.inv(np.diag(S)) @ W\n",
    "    return eigvals, Phi"
   ]
  },
  {
   "cell_type": "code",
   "execution_count": null,
   "id": "9dc72593-11a3-483e-909d-9f00c8cc6eea",
   "metadata": {},
   "outputs": [],
   "source": [
    "def adaptive_elastic_net(Phi, x0, lambd1=1.0, lambd2=1.0, weights=None):\n",
    "    \"\"\"\n",
    "    Phi: モード行列 (r, N)\n",
    "    x0: 初期値ベクトル (N,)\n",
    "    lambd1, lambd2: L1, L2正則化パラメータ\n",
    "    weights: 重み（adaptiveな場合は個別に設定）\n",
    "    \"\"\"\n",
    "    enet = ElasticNet(alpha=lambd1+lambd2, l1_ratio=lambd1/(lambd1+lambd2), fit_intercept=False)\n",
    "    if weights is not None:\n",
    "        Phi = Phi / weights[:, None]\n",
    "    enet.fit(Phi.T, x0)\n",
    "    b = enet.coef_\n",
    "    return b"
   ]
  },
  {
   "cell_type": "code",
   "execution_count": null,
   "id": "21b1feb8-9784-4dde-9a83-2e04b5ea2300",
   "metadata": {},
   "outputs": [],
   "source": [
    "def aedmd_momentum_strategy(price_series, window=250, lambd1=1.0, lambd2=1.0):\n",
    "    \"\"\"\n",
    "    price_series: (T, N) の株価系列（T: 時系列長、N: 資産数）\n",
    "    window: サンプル数\n",
    "    lambd1, lambd2: ElasticNetの正則化パラメータ\n",
    "    \"\"\"\n",
    "    returns = np.diff(np.log(price_series), axis=0)\n",
    "    signals = []\n",
    "    for t in range(window, len(returns)):\n",
    "        X1 = returns[t-window:t-1].T\n",
    "        X2 = returns[t-window+1:t].T\n",
    "        eigvals, Phi = dmd(X1, X2)\n",
    "        x0 = returns[t-1]\n",
    "        b = adaptive_elastic_net(Phi, x0, lambd1, lambd2)\n",
    "        # 予測: ここではモードの寄与の大きいものをトレンド判定に使用\n",
    "        pred = Phi @ b\n",
    "        signals.append(np.sign(pred))\n",
    "    return np.array(signals)"
   ]
  },
  {
   "cell_type": "code",
   "execution_count": null,
   "id": "ee74f9d6-1dcd-4c18-b8d6-94947a34d46c",
   "metadata": {},
   "outputs": [],
   "source": [
    "def backtest(signals, returns):\n",
    "    # signals, returns: shape=(期間, 資産数)\n",
    "    port_ret = (signals * returns[-len(signals):]).mean(axis=1)\n",
    "    mean = np.mean(port_ret)\n",
    "    sd = np.std(port_ret)\n",
    "    sr = mean / sd\n",
    "    print(f'Mean: {mean:.4f}, SD: {sd:.4f}, SR: {sr:.4f}')\n",
    "    return mean, sd, sr"
   ]
  },
  {
   "cell_type": "code",
   "execution_count": null,
   "id": "aa6e9db8-2e75-447d-9751-73a3989ca7f0",
   "metadata": {},
   "outputs": [],
   "source": [
    "np.random.seed(0)\n",
    "T, N = 1000, 5\n",
    "price = np.cumprod(1 + 0.01 * np.random.randn(T, N), axis=0)\n",
    "signals = aedmd_momentum_strategy(price, window=250, lambd1=0.1, lambd2=0.1)\n",
    "rets = np.diff(np.log(price), axis=0)\n",
    "mean, sd, sr = backtest(signals, rets)"
   ]
  }
 ],
 "metadata": {
  "kernelspec": {
   "display_name": "Python 3 (ipykernel)",
   "language": "python",
   "name": "python3"
  },
  "language_info": {
   "codemirror_mode": {
    "name": "ipython",
    "version": 3
   },
   "file_extension": ".py",
   "mimetype": "text/x-python",
   "name": "python",
   "nbconvert_exporter": "python",
   "pygments_lexer": "ipython3",
   "version": "3.12.0"
  }
 },
 "nbformat": 4,
 "nbformat_minor": 5
}
